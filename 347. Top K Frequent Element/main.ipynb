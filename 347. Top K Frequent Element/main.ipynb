{
 "cells": [
  {
   "cell_type": "markdown",
   "metadata": {},
   "source": [
    "Solution 1: Using Bucket sorting algorithm, using the count of each element in the array and a list as the values. The number of index we have the in the length of the array. Once we added the values, we start from the back of the array and we print out the index with values. O(n)"
   ]
  },
  {
   "cell_type": "code",
   "execution_count": null,
   "metadata": {},
   "outputs": [],
   "source": [
    "class Solution(object):\n",
    "    def topKFrequent(self, nums, k):\n",
    "        \"\"\"\n",
    "        :type nums: List[int]\n",
    "        :type k: int\n",
    "        :rtype: List[int]\n",
    "        \"\"\"\n",
    "        count = {}\n",
    "        freq = [[] for i in range((len(nums))+1)]\n",
    "\n",
    "        for n in nums:\n",
    "            count[n] = count.get(n, 0) + 1\n",
    "        for n, c in count.items():\n",
    "            freq[c].append(n)\n",
    "\n",
    "        result = []\n",
    "        for i in range(len(freq)-1, 0, -1):\n",
    "           for n in freq[i]:\n",
    "            result.append(n)\n",
    "            if len(result) == k:\n",
    "                return result"
   ]
  }
 ],
 "metadata": {
  "kernelspec": {
   "display_name": "Python 3",
   "language": "python",
   "name": "python3"
  },
  "language_info": {
   "name": "python",
   "version": "3.11.0"
  }
 },
 "nbformat": 4,
 "nbformat_minor": 2
}
