{
 "cells": [
  {
   "cell_type": "code",
   "execution_count": 1,
   "metadata": {},
   "outputs": [
    {
     "name": "stdout",
     "output_type": "stream",
     "text": [
      "[1, 2]\n"
     ]
    }
   ],
   "source": [
    "class Solution(object):\n",
    "    def twoSum(self, numbers, target):\n",
    "        \"\"\"\n",
    "        :type numbers: List[int]\n",
    "        :type target: int\n",
    "        :rtype: List[int]\n",
    "        \"\"\"\n",
    "        left, right = 0, len(numbers) - 1\n",
    "\n",
    "        while left < right:\n",
    "            current_sum = numbers[left] + numbers[right]\n",
    "\n",
    "            if current_sum == target:\n",
    "                return [left + 1, right + 1]  # Return 1-based indices\n",
    "            elif current_sum < target:\n",
    "                left += 1  # Move left pointer right to increase the sum\n",
    "            else:\n",
    "                right -= 1  # Move right pointer left to decrease the sum\n",
    "\n",
    "# Example usage:\n",
    "solution = Solution()\n",
    "numbers = [2, 7, 11, 15]\n",
    "target = 9\n",
    "print(solution.twoSum(numbers, target))  # Output: [1, 2]"
   ]
  }
 ],
 "metadata": {
  "kernelspec": {
   "display_name": "Python 3",
   "language": "python",
   "name": "python3"
  },
  "language_info": {
   "codemirror_mode": {
    "name": "ipython",
    "version": 3
   },
   "file_extension": ".py",
   "mimetype": "text/x-python",
   "name": "python",
   "nbconvert_exporter": "python",
   "pygments_lexer": "ipython3",
   "version": "3.11.0"
  }
 },
 "nbformat": 4,
 "nbformat_minor": 2
}
