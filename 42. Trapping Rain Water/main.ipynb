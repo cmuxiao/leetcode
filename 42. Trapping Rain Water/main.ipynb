{
 "cells": [
  {
   "cell_type": "markdown",
   "metadata": {},
   "source": [
    "Solution 1:"
   ]
  },
  {
   "cell_type": "code",
   "execution_count": null,
   "metadata": {},
   "outputs": [],
   "source": [
    "class Solution(object):\n",
    "    def trap(self, height):\n",
    "        \"\"\"\n",
    "        :type height: List[int]\n",
    "        :rtype: int\n",
    "        \"\"\"\n",
    "        if not height:\n",
    "            return 0\n",
    "        \n",
    "        l, r = 0, len(height) - 1\n",
    "        leftMax, rightMax = height[l], height[r]\n",
    "        res = 0\n",
    "\n",
    "        while l < r: \n",
    "            if leftMax < rightMax:\n",
    "                l += 1\n",
    "                leftMax = max(leftMax, height[l])\n",
    "                res += leftMax - height[l]\n",
    "            else: \n",
    "                r -= 1\n",
    "                rightMax = max(rightMax, height[r])\n",
    "                res += rightMax - height[r]\n",
    "        return res\n",
    "\n",
    "\n",
    "\n"
   ]
  }
 ],
 "metadata": {
  "kernelspec": {
   "display_name": "Python 3",
   "language": "python",
   "name": "python3"
  },
  "language_info": {
   "name": "python",
   "version": "3.12.9"
  }
 },
 "nbformat": 4,
 "nbformat_minor": 2
}
