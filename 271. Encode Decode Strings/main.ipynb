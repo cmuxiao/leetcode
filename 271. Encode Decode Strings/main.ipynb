{
 "cells": [
  {
   "cell_type": "code",
   "execution_count": null,
   "metadata": {},
   "outputs": [],
   "source": [
    "class Solution:\n",
    "    def encode(self, strs):\n",
    "        res = \" \"\n",
    "        for s in strs:\n",
    "            res += str(len(s)) + \"#\" + s\n",
    "        return res\n",
    "    def decode(self, str):\n",
    "        res, i = [], 0 \n",
    "        while i < len(str):\n",
    "            j = i \n",
    "            while str[j] != \"#\":\n",
    "                j += 1\n",
    "            length = int(str[i:j])\n",
    "            i = j + 1\n",
    "            res.append(str[j + 1 : j + 1 + length])\n",
    "            i = j + 1 + length\n",
    "        return res"
   ]
  }
 ],
 "metadata": {
  "kernelspec": {
   "display_name": "Python 3",
   "language": "python",
   "name": "python3"
  },
  "language_info": {
   "name": "python",
   "version": "3.11.0"
  }
 },
 "nbformat": 4,
 "nbformat_minor": 2
}
