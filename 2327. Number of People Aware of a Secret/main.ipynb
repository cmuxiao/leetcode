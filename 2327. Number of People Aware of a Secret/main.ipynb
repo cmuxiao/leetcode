{
 "cells": [
  {
   "cell_type": "markdown",
   "id": "71e76259",
   "metadata": {},
   "source": [
    "On day 1, one person discovers a secret.\n",
    "\n",
    "You are given an integer delay, which means that each person will share the secret with a new person every day, starting from delay days after discovering the secret. You are also given an integer forget, which means that each person will forget the secret forget days after discovering it. A person cannot share the secret on the same day they forgot it, or on any day afterwards.\n",
    "\n",
    "Given an integer n, return the number of people who know the secret at the end of day n. Since the answer may be very large, return it modulo 109 + 7.\n",
    "\n",
    "Example 1:\n",
    "\n",
    "Input: n = 6, delay = 2, forget = 4\n",
    "Output: 5\n",
    "Explanation:\n",
    "Day 1: Suppose the first person is named A. (1 person)\n",
    "Day 2: A is the only person who knows the secret. (1 person)\n",
    "Day 3: A shares the secret with a new person, B. (2 people)\n",
    "Day 4: A shares the secret with a new person, C. (3 people)\n",
    "Day 5: A forgets the secret, and B shares the secret with a new person, D. (3 people)\n",
    "Day 6: B shares the secret with E, and C shares the secret with F. (5 people)\n",
    "\n",
    "Example 2:\n",
    "\n",
    "Input: n = 4, delay = 1, forget = 3\n",
    "Output: 6\n",
    "Explanation:\n",
    "Day 1: The first person is named A. (1 person)\n",
    "Day 2: A shares the secret with B. (2 people)\n",
    "Day 3: A and B share the secret with 2 new people, C and D. (4 people)\n",
    "Day 4: A forgets the secret. B, C, and D share the secret with 3 new people. (6 people)\n",
    "\n",
    " \n",
    "\n",
    "Constraints:\n",
    "\n",
    "    2 <= n <= 1000\n",
    "    1 <= delay < forget <= n\n",
    "\n"
   ]
  },
  {
   "cell_type": "code",
   "execution_count": 1,
   "id": "74952234",
   "metadata": {},
   "outputs": [],
   "source": [
    "\n",
    "class Solution:\n",
    "    def peopleAwareOfSecret(self, n: int, delay: int, forget: int) -> int:\n",
    "        MOD = 10**9 + 7\n",
    "        dp = [0] * (n + 1)    # dp[i] = new learners on day i\n",
    "        dp[1] = 1\n",
    "        sharers = 0           # number of people eligible to share today\n",
    "\n",
    "        for day in range(2, n + 1):\n",
    "            if day - delay >= 1:\n",
    "                sharers = (sharers + dp[day - delay]) % MOD\n",
    "            if day - forget >= 1:\n",
    "                sharers = (sharers - dp[day - forget]) % MOD\n",
    "            dp[day] = sharers % MOD  # ensure non-negative\n",
    "\n",
    "        return sum(dp[max(1, n - forget + 1): n + 1]) % MOD"
   ]
  }
 ],
 "metadata": {
  "kernelspec": {
   "display_name": "Python 3",
   "language": "python",
   "name": "python3"
  },
  "language_info": {
   "codemirror_mode": {
    "name": "ipython",
    "version": 3
   },
   "file_extension": ".py",
   "mimetype": "text/x-python",
   "name": "python",
   "nbconvert_exporter": "python",
   "pygments_lexer": "ipython3",
   "version": "3.12.9"
  }
 },
 "nbformat": 4,
 "nbformat_minor": 5
}
