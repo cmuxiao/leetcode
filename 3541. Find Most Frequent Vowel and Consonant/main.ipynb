{
 "cells": [
  {
   "cell_type": "markdown",
   "id": "085fc0d3",
   "metadata": {},
   "source": [
    "3541. Find Most Frequent Vowel and Consonant\n",
    "\n",
    "You are given a string s consisting of lowercase English letters ('a' to 'z').\n",
    "\n",
    "Your task is to:\n",
    "\n",
    "    Find the vowel (one of 'a', 'e', 'i', 'o', or 'u') with the maximum frequency.\n",
    "    Find the consonant (all other letters excluding vowels) with the maximum frequency.\n",
    "\n",
    "Return the sum of the two frequencies.\n",
    "\n",
    "Note: If multiple vowels or consonants have the same maximum frequency, you may choose any one of them. If there are no vowels or no consonants in the string, consider their frequency as 0.\n",
    "The frequency of a letter x is the number of times it occurs in the string.\n",
    "\n",
    " \n",
    "\n",
    "Example 1:\n",
    "\n",
    "Input: s = \"successes\"\n",
    "\n",
    "Output: 6\n",
    "\n",
    "Explanation:\n",
    "\n",
    "    The vowels are: 'u' (frequency 1), 'e' (frequency 2). The maximum frequency is 2.\n",
    "    The consonants are: 's' (frequency 4), 'c' (frequency 2). The maximum frequency is 4.\n",
    "    The output is 2 + 4 = 6.\n",
    "\n",
    "Example 2:\n",
    "\n",
    "Input: s = \"aeiaeia\"\n",
    "\n",
    "Output: 3\n",
    "\n",
    "Explanation:\n",
    "\n",
    "    The vowels are: 'a' (frequency 3), 'e' ( frequency 2), 'i' (frequency 2). The maximum frequency is 3.\n",
    "    There are no consonants in s. Hence, maximum consonant frequency = 0.\n",
    "    The output is 3 + 0 = 3.\n",
    "\n",
    " \n",
    "\n",
    "Constraints:\n",
    "\n",
    "    1 <= s.length <= 100\n",
    "    s consists of lowercase English letters only.\n",
    "\n"
   ]
  },
  {
   "cell_type": "code",
   "execution_count": null,
   "id": "2253061d",
   "metadata": {},
   "outputs": [],
   "source": [
    "class Solution:\n",
    "    def maxFreqSum(self, s: str) -> int:\n",
    "        vowels = set(\"aeiou\")\n",
    "        freq = {}\n",
    "\n",
    "        for ch in s:\n",
    "            freq[ch] = freq.get(ch, 0) + 1\n",
    "\n",
    "        max_vowel = 0\n",
    "        max_consonant = 0\n",
    "\n",
    "        for ch, count in freq.items():\n",
    "            if ch in vowels:\n",
    "                max_vowel = max(max_vowel, count)\n",
    "            else:\n",
    "                max_consonant = max(max_consonant, count)\n",
    "                \n",
    "        return max_vowel + max_consonant"
   ]
  }
 ],
 "metadata": {
  "kernelspec": {
   "display_name": "Python 3",
   "language": "python",
   "name": "python3"
  },
  "language_info": {
   "name": "python",
   "version": "3.12.9"
  }
 },
 "nbformat": 4,
 "nbformat_minor": 5
}
