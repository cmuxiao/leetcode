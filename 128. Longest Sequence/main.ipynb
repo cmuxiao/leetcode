{
 "cells": [
  {
   "cell_type": "code",
   "execution_count": null,
   "metadata": {},
   "outputs": [],
   "source": [
    "class Solution(object):\n",
    "    def longestConsecutive(self, nums):\n",
    "        \"\"\"\n",
    "        :type nums: List[int]\n",
    "        :rtype: int\n",
    "        \"\"\"\n",
    "        count = 0\n",
    "        max_count = 0\n",
    "        prev_num = None\n",
    "        nums = list(set(nums))\n",
    "        nums.sort()\n",
    "        # print(nums)\n",
    "        for num in nums:\n",
    "            if prev_num is not None:\n",
    "                if num == prev_num + 1:\n",
    "                    count = count + 1\n",
    "                else:\n",
    "                    if count > max_count:\n",
    "                        max_count = count\n",
    "                    count = 1\n",
    "            else:\n",
    "                count = 1\n",
    "            prev_num = num\n",
    "            # print(num, count)\n",
    "        return max(count,max_count)"
   ]
  },
  {
   "cell_type": "code",
   "execution_count": null,
   "metadata": {},
   "outputs": [],
   "source": [
    "class Solution(object):\n",
    "    def longestConsecutive(self, nums):\n",
    "        \"\"\"\n",
    "        :type nums: List[int]\n",
    "        :rtype: int\n",
    "        \"\"\"\n",
    "        numSet = set(nums)\n",
    "        result = 0\n",
    "\n",
    "        for n in nums:\n",
    "            if n - 1 not in numSet:\n",
    "                length = 0\n",
    "                while (n + length) in numSet:\n",
    "                    length += 1\n",
    "                result = max(length, result)\n",
    "        return result\n",
    "         "
   ]
  }
 ],
 "metadata": {
  "kernelspec": {
   "display_name": "Python 3",
   "language": "python",
   "name": "python3"
  },
  "language_info": {
   "name": "python",
   "version": "3.11.0"
  }
 },
 "nbformat": 4,
 "nbformat_minor": 2
}
